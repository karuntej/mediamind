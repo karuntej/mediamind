{
 "cells": [
  {
   "cell_type": "code",
   "execution_count": 12,
   "id": "d76bb5b2",
   "metadata": {
    "tags": [],
    "vscode": {
     "languageId": "plaintext"
    }
   },
   "outputs": [],
   "source": [
    "import json,spacy\n",
    "nlp = spacy.blank(\"en\") \n",
    "\n",
    "\n",
    "chunks = json.load(open(\"../data/processed/pdf_chunks.json\"))\n",
    "for c in chunks:\n",
    "    doc = nlp(c[\"text\"])\n",
    "    c[\"ents\"] = [{\"text\": e.text, \"label\": e.label_} for e in doc.ents]\n",
    "\n",
    "json.dump(chunks, open(\"../data/processed/all_chunks.json\", \"w\"))\n"
   ]
  },
  {
   "cell_type": "code",
   "execution_count": null,
   "id": "1e6cc08c-3d92-419a-bda2-b3b2106ceafa",
   "metadata": {},
   "outputs": [],
   "source": []
  }
 ],
 "metadata": {
  "kernelspec": {
   "display_name": "MediaMind (venv)",
   "language": "python",
   "name": "mediamind"
  },
  "language_info": {
   "codemirror_mode": {
    "name": "ipython",
    "version": 3
   },
   "file_extension": ".py",
   "mimetype": "text/x-python",
   "name": "python",
   "nbconvert_exporter": "python",
   "pygments_lexer": "ipython3",
   "version": "3.11.5"
  }
 },
 "nbformat": 4,
 "nbformat_minor": 5
}
