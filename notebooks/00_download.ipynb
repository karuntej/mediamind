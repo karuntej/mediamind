{
 "cells": [
  {
   "cell_type": "code",
   "execution_count": 8,
   "id": "59053a7e",
   "metadata": {
    "tags": [],
    "vscode": {
     "languageId": "plaintext"
    }
   },
   "outputs": [
    {
     "name": "stdout",
     "output_type": "stream",
     "text": [
      "Dataset URL: https://www.kaggle.com/datasets/manisha717/dataset-of-pdf-files\n",
      "License(s): unknown\n",
      "unzip:  cannot find or open ../data/raw/pdf/pdf-dataset.zip, ../data/raw/pdf/pdf-dataset.zip.zip or ../data/raw/pdf/pdf-dataset.zip.ZIP.\n",
      "Dataset URL: https://www.kaggle.com/datasets/suvroo/scanned-images-dataset-for-ocr-and-vlm-finetuning\n",
      "License(s): MIT\n",
      "^C\n",
      "unzip:  cannot find or open ../data/raw/images/scanned-ocr-images.zip, ../data/raw/images/scanned-ocr-images.zip.zip or ../data/raw/images/scanned-ocr-images.zip.ZIP.\n",
      "Dataset URL: https://www.kaggle.com/datasets/prasadmagdum/nlpproject\n",
      "License(s): unknown\n",
      "^C\n",
      "User cancelled operation\n",
      "unzip:  cannot find or open ../data/raw/video/video-and-transcript-dataset.zip, ../data/raw/video/video-and-transcript-dataset.zip.zip or ../data/raw/video/video-and-transcript-dataset.zip.ZIP.\n"
     ]
    }
   ],
   "source": [
    "# NB: place your Kaggle API credentials in ~/.kaggle/kaggle.json beforehand\n",
    "!kaggle datasets download -d manisha717/dataset-of-pdf-files -p ../data/raw/pdf -q\n",
    "!unzip -o ../data/raw/pdf/pdf-dataset.zip -d ../data/raw/pdf\n",
    "\n",
    "!kaggle datasets download -d suvroo/scanned-images-dataset-for-ocr-and-vlm-finetuning -p ../data/raw/images -q\n",
    "!unzip -o ../data/raw/images/scanned-ocr-images.zip -d ../data/raw/images\n",
    "\n",
    "!kaggle datasets download -d prasadmagdum/nlpproject -p ../data/raw/video -q\n",
    "!unzip -o ../data/raw/video/video-and-transcript-dataset.zip -d ../data/raw/video\n"
   ]
  },
  {
   "cell_type": "code",
   "execution_count": null,
   "id": "567269fa-3191-4670-888c-72678ace4f7e",
   "metadata": {},
   "outputs": [],
   "source": []
  },
  {
   "cell_type": "code",
   "execution_count": null,
   "id": "f6fc21d1-0558-4fdb-bb7b-2103d751fa1d",
   "metadata": {},
   "outputs": [],
   "source": []
  }
 ],
 "metadata": {
  "kernelspec": {
   "display_name": "MediaMind (venv)",
   "language": "python",
   "name": "mediamind"
  },
  "language_info": {
   "codemirror_mode": {
    "name": "ipython",
    "version": 3
   },
   "file_extension": ".py",
   "mimetype": "text/x-python",
   "name": "python",
   "nbconvert_exporter": "python",
   "pygments_lexer": "ipython3",
   "version": "3.11.5"
  },
  "toc-autonumbering": true,
  "toc-showcode": false,
  "toc-showmarkdowntxt": true
 },
 "nbformat": 4,
 "nbformat_minor": 5
}
