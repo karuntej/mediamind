{
 "cells": [
  {
   "cell_type": "code",
   "execution_count": 1,
   "id": "7710a6b4",
   "metadata": {
    "tags": [],
    "vscode": {
     "languageId": "plaintext"
    }
   },
   "outputs": [
    {
     "ename": "TypeError",
     "evalue": "'generator' object is not subscriptable",
     "output_type": "error",
     "traceback": [
      "\u001b[31m---------------------------------------------------------------------------\u001b[39m",
      "\u001b[31mTypeError\u001b[39m                                 Traceback (most recent call last)",
      "\u001b[36mCell\u001b[39m\u001b[36m \u001b[39m\u001b[32mIn[1]\u001b[39m\u001b[32m, line 4\u001b[39m\n\u001b[32m      2\u001b[39m pdf_dir = pathlib.Path(\u001b[33m\"\u001b[39m\u001b[33m../data/raw/pdf\u001b[39m\u001b[33m\"\u001b[39m)\n\u001b[32m      3\u001b[39m out     = []\n\u001b[32m----> \u001b[39m\u001b[32m4\u001b[39m \u001b[38;5;28;01mfor\u001b[39;00m pdf \u001b[38;5;129;01min\u001b[39;00m \u001b[43mpdf_dir\u001b[49m\u001b[43m.\u001b[49m\u001b[43mglob\u001b[49m\u001b[43m(\u001b[49m\u001b[33;43m\"\u001b[39;49m\u001b[33;43m*.pdf\u001b[39;49m\u001b[33;43m\"\u001b[39;49m\u001b[43m)\u001b[49m\u001b[43m[\u001b[49m\u001b[43m:\u001b[49m\u001b[32;43m10\u001b[39;49m\u001b[43m]\u001b[49m:\n\u001b[32m      5\u001b[39m     doc = fitz.open(pdf)\n\u001b[32m      6\u001b[39m     \u001b[38;5;28;01mfor\u001b[39;00m page_no, page \u001b[38;5;129;01min\u001b[39;00m \u001b[38;5;28menumerate\u001b[39m(doc, \u001b[32m1\u001b[39m):\n",
      "\u001b[31mTypeError\u001b[39m: 'generator' object is not subscriptable"
     ]
    }
   ],
   "source": [
    "import fitz, uuid, json, pathlib, os\n",
    "\n",
    "pdf_dir = pathlib.Path(\"../data/raw/pdf\")      # adjust if you used another folder\n",
    "out = []\n",
    "\n",
    "# OPTION A – easiest\n",
    "for pdf in list(pdf_dir.glob(\"*.pdf\"))[:10]:   # convert to list, then slice\n",
    "    doc = fitz.open(pdf)\n",
    "    for page_no, page in enumerate(doc, 1):\n",
    "        out.append({\n",
    "            \"chunk_id\": str(uuid.uuid4()),\n",
    "            \"source\"  : \"pdf\",\n",
    "            \"doc_path\": str(pdf),\n",
    "            \"loc\"     : {\"page\": page_no},\n",
    "            \"text\"    : page.get_text()\n",
    "        })\n",
    "\n",
    "# OPTION B – iterator-friendly (no big list in memory)\n",
    "# from itertools import islice\n",
    "# for pdf in islice(pdf_dir.glob(\"*.pdf\"), 10):\n",
    "#     ...\n",
    "\n",
    "os.makedirs(\"../data/processed\", exist_ok=True)\n",
    "json.dump(out, open(\"../data/processed/pdf_chunks.json\", \"w\"))\n",
    "\n",
    "len(out)   # how many page-chunks you just saved\n"
   ]
  },
  {
   "cell_type": "code",
   "execution_count": null,
   "id": "c86f6c85-398a-4e1e-94dc-c40a62ca8119",
   "metadata": {},
   "outputs": [],
   "source": []
  }
 ],
 "metadata": {
  "kernelspec": {
   "display_name": "MediaMind (venv)",
   "language": "python",
   "name": "mediamind"
  },
  "language_info": {
   "codemirror_mode": {
    "name": "ipython",
    "version": 3
   },
   "file_extension": ".py",
   "mimetype": "text/x-python",
   "name": "python",
   "nbconvert_exporter": "python",
   "pygments_lexer": "ipython3",
   "version": "3.11.5"
  }
 },
 "nbformat": 4,
 "nbformat_minor": 5
}
