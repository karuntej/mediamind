{
 "cells": [
  {
   "cell_type": "code",
   "execution_count": null,
   "id": "d76bb5b2",
   "metadata": {
    "vscode": {
     "languageId": "plaintext"
    }
   },
   "outputs": [],
   "source": [
    "import json, spacy\n",
    "nlp = spacy.load(\"en_core_web_sm\")\n",
    "\n",
    "chunks = json.load(open(\"../data/processed/pdf_chunks.json\"))\n",
    "for c in chunks:\n",
    "    doc = nlp(c[\"text\"])\n",
    "    c[\"ents\"] = [{\"text\": e.text, \"label\": e.label_} for e in doc.ents]\n",
    "\n",
    "json.dump(chunks, open(\"../data/processed/all_chunks.json\", \"w\"))\n"
   ]
  }
 ],
 "metadata": {
  "language_info": {
   "name": "python"
  }
 },
 "nbformat": 4,
 "nbformat_minor": 5
}
