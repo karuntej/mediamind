{
 "cells": [
  {
   "cell_type": "code",
   "execution_count": null,
   "id": "f018e483",
   "metadata": {
    "vscode": {
     "languageId": "plaintext"
    }
   },
   "outputs": [],
   "source": [
    "import json, faiss, sqlite3, numpy as np\n",
    "from sentence_transformers import SentenceTransformer\n",
    "chunks = json.load(open(\"../data/processed/all_chunks.json\"))\n",
    "model  = SentenceTransformer(\"all-MiniLM-L12-v2\")\n",
    "\n",
    "txts  = [c[\"text\"][:512] for c in chunks]\n",
    "embs  = model.encode(txts, normalize_embeddings=True)\n",
    "ids   = np.arange(len(txts)).astype(\"int64\")\n",
    "\n",
    "index = faiss.IndexFlatIP(embs.shape[1])\n",
    "index = faiss.IndexIDMap2(index)\n",
    "index.add_with_ids(embs, ids)\n",
    "faiss.write_index(index, \"../data/faiss.index\")\n",
    "\n",
    "con = sqlite3.connect(\"../data/meta.db\")\n",
    "con.execute(\"\"\"CREATE TABLE IF NOT EXISTS meta\n",
    "               (id INTEGER PRIMARY KEY, chunk_id TEXT, source TEXT,\n",
    "                doc_path TEXT, loc TEXT, text TEXT)\"\"\")\n",
    "con.executemany(\"INSERT OR REPLACE INTO meta VALUES (?,?,?,?,?,?)\",\n",
    "                [(i,c[\"chunk_id\"],c[\"source\"],c[\"doc_path\"],json.dumps(c[\"loc\"]),c[\"text\"])\n",
    "                 for i,c in enumerate(chunks)])\n",
    "con.commit()\n"
   ]
  }
 ],
 "metadata": {
  "language_info": {
   "name": "python"
  }
 },
 "nbformat": 4,
 "nbformat_minor": 5
}
