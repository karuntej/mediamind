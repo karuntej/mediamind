{
 "cells": [
  {
   "cell_type": "code",
   "execution_count": 3,
   "id": "7710a6b4",
   "metadata": {
    "tags": [],
    "vscode": {
     "languageId": "plaintext"
    }
   },
   "outputs": [
    {
     "data": {
      "text/plain": [
       "285"
      ]
     },
     "execution_count": 3,
     "metadata": {},
     "output_type": "execute_result"
    }
   ],
   "source": [
    "import fitz, uuid, json, pathlib, os\n",
    "\n",
    "pdf_dir = pathlib.Path(\"../data/raw/pdf\")      # adjust if you used another folder\n",
    "out = []\n",
    "\n",
    "# OPTION A – easiest\n",
    "for pdf in list(pdf_dir.glob(\"*.pdf\"))[:10]:   # convert to list, then slice\n",
    "    doc = fitz.open(pdf)\n",
    "    for page_no, page in enumerate(doc, 1):\n",
    "        out.append({\n",
    "            \"chunk_id\": str(uuid.uuid4()),\n",
    "            \"source\"  : \"pdf\",\n",
    "            \"doc_path\": str(pdf),\n",
    "            \"loc\"     : {\"page\": page_no},\n",
    "            \"text\"    : page.get_text()\n",
    "        })\n",
    "\n",
    "# OPTION B – iterator-friendly (no big list in memory)\n",
    "# from itertools import islice\n",
    "# for pdf in islice(pdf_dir.glob(\"*.pdf\"), 10):\n",
    "#     ...\n",
    "\n",
    "os.makedirs(\"../data/processed\", exist_ok=True)\n",
    "json.dump(out, open(\"../data/processed/pdf_chunks.json\", \"w\"))\n",
    "\n",
    "len(out)   # how many page-chunks you just saved\n"
   ]
  },
  {
   "cell_type": "code",
   "execution_count": 5,
   "id": "c86f6c85-398a-4e1e-94dc-c40a62ca8119",
   "metadata": {
    "tags": []
   },
   "outputs": [
    {
     "name": "stdout",
     "output_type": "stream",
     "text": [
      "PDF files found: 1076\n"
     ]
    }
   ],
   "source": [
    "from pathlib import Path\n",
    "print(\"PDF files found:\", len(list(Path(\"../data/raw/pdf\").rglob(\"*.pdf\"))))"
   ]
  },
  {
   "cell_type": "code",
   "execution_count": 7,
   "id": "17910a17-ff71-4f77-9ffd-7a9e9777db7c",
   "metadata": {
    "tags": []
   },
   "outputs": [
    {
     "name": "stderr",
     "output_type": "stream",
     "text": [
      "1076it [00:01, 1031.28it/s]"
     ]
    },
    {
     "name": "stdout",
     "output_type": "stream",
     "text": [
      "Bad files   : 0\n",
      "Zero-page   : 9\n"
     ]
    },
    {
     "name": "stderr",
     "output_type": "stream",
     "text": [
      "\n"
     ]
    }
   ],
   "source": [
    "from pathlib import Path\n",
    "import fitz, tqdm\n",
    "\n",
    "pdf_dir = Path(\"../data/raw/pdf\")\n",
    "bad, zero_pages = [], []\n",
    "\n",
    "for f in tqdm.tqdm(pdf_dir.rglob(\"*.pdf\")):\n",
    "    try:\n",
    "        doc = fitz.open(f)\n",
    "        if len(doc) == 0:\n",
    "            zero_pages.append(f)\n",
    "    except Exception as e:\n",
    "        bad.append((f, str(e)))\n",
    "\n",
    "print(\"Bad files   :\", len(bad))\n",
    "print(\"Zero-page   :\", len(zero_pages))\n",
    "for f, err in bad[:5]:\n",
    "    print(\" →\", f.name, \"|\", err)\n"
   ]
  },
  {
   "cell_type": "code",
   "execution_count": 9,
   "id": "0cd7d2f2-7a87-4953-9a19-dee642cfd353",
   "metadata": {
    "tags": []
   },
   "outputs": [
    {
     "name": "stdout",
     "output_type": "stream",
     "text": [
      "MuPDF error: format error: No default Layer config\n",
      "\n",
      "MuPDF error: format error: No default Layer config\n",
      "\n",
      "MuPDF error: format error: No default Layer config\n",
      "\n",
      "MuPDF error: format error: No default Layer config\n",
      "\n",
      "MuPDF error: format error: object out of range (1167 0 R); xref size 1167\n",
      "\n",
      "MuPDF error: format error: non-page object in page tree\n",
      "\n",
      "MuPDF error: format error: object out of range (1167 0 R); xref size 1167\n",
      "\n",
      "MuPDF error: format error: object out of range (1167 0 R); xref size 1167\n",
      "\n",
      "MuPDF error: format error: object out of range (1167 0 R); xref size 1167\n",
      "\n",
      "MuPDF error: format error: object out of range (1167 0 R); xref size 1167\n",
      "\n",
      "MuPDF error: format error: object out of range (1167 0 R); xref size 1167\n",
      "\n",
      "MuPDF error: format error: object out of range (1167 0 R); xref size 1167\n",
      "\n",
      "MuPDF error: format error: object out of range (1167 0 R); xref size 1167\n",
      "\n",
      "MuPDF error: format error: object out of range (1167 0 R); xref size 1167\n",
      "\n",
      "MuPDF error: format error: object out of range (1167 0 R); xref size 1167\n",
      "\n",
      "MuPDF error: format error: object out of range (1167 0 R); xref size 1167\n",
      "\n",
      "MuPDF error: format error: object out of range (1167 0 R); xref size 1167\n",
      "\n",
      "MuPDF error: format error: object out of range (1167 0 R); xref size 1167\n",
      "\n",
      "MuPDF error: format error: object out of range (1167 0 R); xref size 1167\n",
      "\n",
      "MuPDF error: format error: object out of range (1167 0 R); xref size 1167\n",
      "\n",
      "MuPDF error: format error: object out of range (1167 0 R); xref size 1167\n",
      "\n",
      "MuPDF error: format error: object out of range (1167 0 R); xref size 1167\n",
      "\n",
      "MuPDF error: format error: object out of range (1167 0 R); xref size 1167\n",
      "\n",
      "MuPDF error: format error: object out of range (1167 0 R); xref size 1167\n",
      "\n",
      "MuPDF error: format error: object out of range (1167 0 R); xref size 1167\n",
      "\n",
      "MuPDF error: format error: object out of range (1167 0 R); xref size 1167\n",
      "\n",
      "MuPDF error: format error: object out of range (1167 0 R); xref size 1167\n",
      "\n",
      "MuPDF error: format error: object out of range (1167 0 R); xref size 1167\n",
      "\n",
      "MuPDF error: format error: object out of range (1167 0 R); xref size 1167\n",
      "\n",
      "MuPDF error: format error: object out of range (1167 0 R); xref size 1167\n",
      "\n",
      "MuPDF error: format error: object out of range (1167 0 R); xref size 1167\n",
      "\n",
      "MuPDF error: format error: object out of range (1167 0 R); xref size 1167\n",
      "\n",
      "MuPDF error: format error: object out of range (1167 0 R); xref size 1167\n",
      "\n",
      "MuPDF error: format error: object out of range (1167 0 R); xref size 1167\n",
      "\n",
      "MuPDF error: format error: object out of range (1167 0 R); xref size 1167\n",
      "\n",
      "MuPDF error: format error: object out of range (1167 0 R); xref size 1167\n",
      "\n",
      "MuPDF error: format error: object out of range (1167 0 R); xref size 1167\n",
      "\n",
      "MuPDF error: format error: object out of range (1167 0 R); xref size 1167\n",
      "\n",
      "MuPDF error: format error: object out of range (1167 0 R); xref size 1167\n",
      "\n",
      "MuPDF error: format error: object out of range (1167 0 R); xref size 1167\n",
      "\n",
      "MuPDF error: format error: object out of range (1167 0 R); xref size 1167\n",
      "\n",
      "MuPDF error: format error: object out of range (1167 0 R); xref size 1167\n",
      "\n",
      "MuPDF error: format error: object out of range (1167 0 R); xref size 1167\n",
      "\n",
      "MuPDF error: format error: object out of range (1167 0 R); xref size 1167\n",
      "\n",
      "MuPDF error: format error: object out of range (1167 0 R); xref size 1167\n",
      "\n",
      "MuPDF error: format error: object out of range (1167 0 R); xref size 1167\n",
      "\n",
      "MuPDF error: format error: object out of range (1167 0 R); xref size 1167\n",
      "\n",
      "MuPDF error: format error: object out of range (1167 0 R); xref size 1167\n",
      "\n",
      "MuPDF error: format error: object out of range (1167 0 R); xref size 1167\n",
      "\n",
      "MuPDF error: format error: object out of range (1167 0 R); xref size 1167\n",
      "\n",
      "MuPDF error: format error: object out of range (1167 0 R); xref size 1167\n",
      "\n",
      "MuPDF error: format error: object out of range (1167 0 R); xref size 1167\n",
      "\n",
      "MuPDF error: format error: object out of range (1167 0 R); xref size 1167\n",
      "\n",
      "MuPDF error: format error: object out of range (1167 0 R); xref size 1167\n",
      "\n",
      "MuPDF error: format error: object out of range (1167 0 R); xref size 1167\n",
      "\n",
      "MuPDF error: format error: object out of range (1167 0 R); xref size 1167\n",
      "\n",
      "MuPDF error: format error: object out of range (1167 0 R); xref size 1167\n",
      "\n",
      "MuPDF error: format error: object out of range (1167 0 R); xref size 1167\n",
      "\n",
      "MuPDF error: format error: object out of range (1167 0 R); xref size 1167\n",
      "\n",
      "MuPDF error: format error: object out of range (1167 0 R); xref size 1167\n",
      "\n",
      "MuPDF error: format error: object out of range (1167 0 R); xref size 1167\n",
      "\n",
      "MuPDF error: format error: object out of range (1167 0 R); xref size 1167\n",
      "\n",
      "MuPDF error: format error: object out of range (1167 0 R); xref size 1167\n",
      "\n",
      "MuPDF error: format error: object out of range (1167 0 R); xref size 1167\n",
      "\n",
      "MuPDF error: format error: object out of range (1167 0 R); xref size 1167\n",
      "\n",
      "MuPDF error: format error: object out of range (1167 0 R); xref size 1167\n",
      "\n",
      "MuPDF error: format error: object out of range (1167 0 R); xref size 1167\n",
      "\n",
      "MuPDF error: format error: object out of range (1167 0 R); xref size 1167\n",
      "\n",
      "MuPDF error: format error: No default Layer config\n",
      "\n",
      "MuPDF error: format error: No default Layer config\n",
      "\n",
      "MuPDF error: format error: No default Layer config\n",
      "\n",
      "MuPDF error: format error: No default Layer config\n",
      "\n",
      "⚠️  could not open 4GJGAIUVBMLM3W7O5SV4EKDNKC4DVOCL.pdf → document closed or encrypted\n",
      "MuPDF error: format error: No default Layer config\n",
      "\n",
      "MuPDF error: format error: No default Layer config\n",
      "\n",
      "MuPDF error: unsupported error: cannot create appearance stream for Image annotations\n",
      "\n",
      "MuPDF error: unsupported error: cannot create appearance stream for Image annotations\n",
      "\n",
      "MuPDF error: format error: No default Layer config\n",
      "\n",
      "Skipped zero-page PDFs: 9\n"
     ]
    }
   ],
   "source": [
    "empty_pdfs = []\n",
    "\n",
    "for pdf in pdf_dir.rglob(\"*.pdf\"):\n",
    "    try:\n",
    "        doc = fitz.open(pdf)\n",
    "        if len(doc) == 0:\n",
    "            empty_pdfs.append(pdf)\n",
    "            continue            # ← skip to next file\n",
    "        for page_no, page in enumerate(doc, 1):\n",
    "            out.append({\n",
    "                \"chunk_id\": str(uuid.uuid4()),\n",
    "                \"source\"  : \"pdf\",\n",
    "                \"doc_path\": str(pdf),\n",
    "                \"loc\"     : {\"page\": page_no},\n",
    "                \"text\"    : page.get_text()\n",
    "            })\n",
    "    except Exception as e:\n",
    "        print(\"⚠️  could not open\", pdf.name, \"→\", e)\n",
    "\n",
    "print(\"Skipped zero-page PDFs:\", len(empty_pdfs))\n"
   ]
  },
  {
   "cell_type": "code",
   "execution_count": null,
   "id": "bebc9930-1f06-432f-8bf8-c13573be0fb5",
   "metadata": {},
   "outputs": [],
   "source": []
  }
 ],
 "metadata": {
  "kernelspec": {
   "display_name": "MediaMind (venv)",
   "language": "python",
   "name": "mediamind"
  },
  "language_info": {
   "codemirror_mode": {
    "name": "ipython",
    "version": 3
   },
   "file_extension": ".py",
   "mimetype": "text/x-python",
   "name": "python",
   "nbconvert_exporter": "python",
   "pygments_lexer": "ipython3",
   "version": "3.11.5"
  }
 },
 "nbformat": 4,
 "nbformat_minor": 5
}
