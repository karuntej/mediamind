{
 "cells": [
  {
   "cell_type": "code",
   "execution_count": 2,
   "id": "f018e483",
   "metadata": {
    "tags": [],
    "vscode": {
     "languageId": "plaintext"
    }
   },
   "outputs": [
    {
     "name": "stderr",
     "output_type": "stream",
     "text": [
      "/Users/karkastu/Downloads/mediamind/.venv/lib/python3.11/site-packages/tqdm/auto.py:21: TqdmWarning: IProgress not found. Please update jupyter and ipywidgets. See https://ipywidgets.readthedocs.io/en/stable/user_install.html\n",
      "  from .autonotebook import tqdm as notebook_tqdm\n"
     ]
    }
   ],
   "source": [
    "import json, faiss, sqlite3, numpy as np\n",
    "from sentence_transformers import SentenceTransformer\n",
    "chunks = json.load(open(\"../data/processed/all_chunks.json\"))\n",
    "model  = SentenceTransformer(\"all-MiniLM-L12-v2\")\n",
    "\n",
    "txts  = [c[\"text\"][:512] for c in chunks]\n",
    "embs  = model.encode(txts, normalize_embeddings=True)\n",
    "ids   = np.arange(len(txts)).astype(\"int64\")\n",
    "\n",
    "index = faiss.IndexFlatIP(embs.shape[1])\n",
    "index = faiss.IndexIDMap2(index)\n",
    "index.add_with_ids(embs, ids)\n",
    "faiss.write_index(index, \"../data/faiss.index\")\n",
    "\n",
    "con = sqlite3.connect(\"../data/meta.db\")\n",
    "con.execute(\"\"\"CREATE TABLE IF NOT EXISTS meta\n",
    "               (id INTEGER PRIMARY KEY, chunk_id TEXT, source TEXT,\n",
    "                doc_path TEXT, loc TEXT, text TEXT)\"\"\")\n",
    "con.executemany(\"INSERT OR REPLACE INTO meta VALUES (?,?,?,?,?,?)\",\n",
    "                [(i,c[\"chunk_id\"],c[\"source\"],c[\"doc_path\"],json.dumps(c[\"loc\"]),c[\"text\"])\n",
    "                 for i,c in enumerate(chunks)])\n",
    "con.commit()\n"
   ]
  },
  {
   "cell_type": "code",
   "execution_count": 3,
   "id": "ab8ca1be-c23c-49bd-899a-4832e089e086",
   "metadata": {
    "tags": []
   },
   "outputs": [
    {
     "name": "stdout",
     "output_type": "stream",
     "text": [
      "FAISS file  exists: True\n",
      "Meta DB size: 216 KB\n",
      "Random search returns IDs: [[25 92 91  5  4]]\n"
     ]
    }
   ],
   "source": [
    "import faiss, sqlite3, json, os, numpy as np\n",
    "print(\"FAISS file  exists:\", os.path.exists(\"../data/faiss.index\"))\n",
    "print(\"Meta DB size:\", os.path.getsize(\"../data/meta.db\")//1024, \"KB\")\n",
    "\n",
    "# quick sanity search\n",
    "index = faiss.read_index(\"../data/faiss.index\")\n",
    "vec   = np.random.randn(384).astype(\"float32\")   # dummy vector\n",
    "D,I   = index.search(vec.reshape(1,-1), 5)\n",
    "print(\"Random search returns IDs:\", I)\n"
   ]
  },
  {
   "cell_type": "code",
   "execution_count": null,
   "id": "278682e2-f3f6-46ac-ba7a-56c9b8006f48",
   "metadata": {},
   "outputs": [],
   "source": []
  }
 ],
 "metadata": {
  "kernelspec": {
   "display_name": "MediaMind (venv)",
   "language": "python",
   "name": "mediamind"
  },
  "language_info": {
   "codemirror_mode": {
    "name": "ipython",
    "version": 3
   },
   "file_extension": ".py",
   "mimetype": "text/x-python",
   "name": "python",
   "nbconvert_exporter": "python",
   "pygments_lexer": "ipython3",
   "version": "3.11.5"
  }
 },
 "nbformat": 4,
 "nbformat_minor": 5
}
